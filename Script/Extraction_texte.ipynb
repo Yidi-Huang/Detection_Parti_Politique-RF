{
 "cells": [
  {
   "cell_type": "code",
   "execution_count": 5,
   "metadata": {},
   "outputs": [],
   "source": [
    "import xml.etree.ElementTree as ET\n",
    "import csv\n",
    "import re\n",
    "\n",
    "def extract_text(text):\n",
    "    \"\"\" 移除XML标签，只保留纯文本 \"\"\"\n",
    "    return re.sub(r'<[^>]+>', '', text)\n",
    "\n",
    "def parse_xml_to_csv(xml_file, csv_file):\n",
    "    tree = ET.parse(xml_file)\n",
    "    root = tree.getroot()\n",
    "\n",
    "    with open(csv_file, 'w', newline='', encoding='utf-8') as file:\n",
    "        writer = csv.writer(file)\n",
    "        writer.writerow(['Label', 'Text'])  \n",
    "\n",
    "        for doc in root.findall('doc'):\n",
    "            label = doc.find('.//PARTI').get('valeur') if doc.find('.//PARTI') is not None else ''\n",
    "            text = ''.join(extract_text(texte.text or '') for texte in doc.findall('.//texte//p'))\n",
    "\n",
    "            writer.writerow([label, text])\n",
    "\n",
    "\n",
    "xml_file = 'deft09_parlement_appr_it.xml'  \n",
    "csv_file = 'output_it.csv'  \n",
    "parse_xml_to_csv(xml_file, csv_file)\n"
   ]
  }
 ],
 "metadata": {
  "kernelspec": {
   "display_name": "Python 3",
   "language": "python",
   "name": "python3"
  },
  "language_info": {
   "codemirror_mode": {
    "name": "ipython",
    "version": 3
   },
   "file_extension": ".py",
   "mimetype": "text/x-python",
   "name": "python",
   "nbconvert_exporter": "python",
   "pygments_lexer": "ipython3",
   "version": "3.11.3"
  }
 },
 "nbformat": 4,
 "nbformat_minor": 2
}
