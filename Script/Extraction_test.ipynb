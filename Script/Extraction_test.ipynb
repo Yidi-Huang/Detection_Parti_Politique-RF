{
 "cells": [
  {
   "cell_type": "code",
   "execution_count": null,
   "metadata": {},
   "outputs": [],
   "source": [
    "import xml.etree.ElementTree as ET\n",
    "import re\n",
    "\n",
    "# Specify the path to your XML file\n",
    "xml_file_path = \"deft09/Corpus de test/deft09_parlement_test_en.xml\"\n",
    "\n",
    "# Parse the XML data from the file\n",
    "tree = ET.parse(xml_file_path)\n",
    "root = tree.getroot()\n",
    "\n",
    "# Iterate through each doc element\n",
    "for doc in root.findall(\".//doc\"):\n",
    "    doc_id = doc.get(\"id\")\n",
    "    \n",
    "    # Extract and print the doc ID\n",
    "    print(f\"Doc ID: {doc_id}\")\n",
    "\n",
    "    # Extract and print the text part without <p> and </p> tags\n",
    "    text_parts = doc.findall(\".//texte/p\")\n",
    "    for text_part in text_parts:\n",
    "        text = re.sub(r'<p>|</p>', '', ET.tostring(text_part, encoding='unicode'))\n",
    "        print(f\"Text: {text.strip()}\")\n",
    "\n",
    "    print(\"\\n\")\n"
   ]
  }
 ],
 "metadata": {
  "language_info": {
   "name": "python"
  }
 },
 "nbformat": 4,
 "nbformat_minor": 2
}
