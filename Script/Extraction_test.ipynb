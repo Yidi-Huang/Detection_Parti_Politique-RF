{
 "cells": [
  {
   "cell_type": "markdown",
   "metadata": {},
   "source": [
    "# Extract test xml"
   ]
  },
  {
   "cell_type": "code",
   "execution_count": null,
   "metadata": {},
   "outputs": [],
   "source": [
    "import xml.etree.ElementTree as ET\n",
    "import re\n",
    "\n",
    "# Specify the path to your XML file\n",
    "xml_file_path = \"deft09/Corpus de test/deft09_parlement_test_en.xml\"\n",
    "\n",
    "# Parse the XML data from the file\n",
    "tree = ET.parse(xml_file_path)\n",
    "root = tree.getroot()\n",
    "\n",
    "# Iterate through each doc element\n",
    "for doc in root.findall(\".//doc\"):\n",
    "    doc_id = doc.get(\"id\")\n",
    "    \n",
    "    # Extract and print the doc ID\n",
    "    print(f\"Doc ID: {doc_id}\")\n",
    "\n",
    "    # Extract and print the text part without <p> and </p> tags\n",
    "    text_parts = doc.findall(\".//texte/p\")\n",
    "    for text_part in text_parts:\n",
    "        text = re.sub(r'<p>|</p>', '', ET.tostring(text_part, encoding='unicode'))\n",
    "        print(f\"Text: {text.strip()}\")\n",
    "\n",
    "    print(\"\\n\")\n"
   ]
  },
  {
   "cell_type": "markdown",
   "metadata": {},
   "source": [
    "# Match Parti and Text"
   ]
  },
  {
   "cell_type": "code",
   "execution_count": 5,
   "metadata": {},
   "outputs": [],
   "source": [
    "import pandas as pd\n",
    "\n",
    "# Read the CSV file into a DataFrame\n",
    "df = pd.read_csv(\"test_en.csv\")\n",
    "\n",
    "# Read the text file and create a dictionary mapping IDs to labels\n",
    "id_label_mapping = {}\n",
    "with open(\"en.txt\", \"r\") as file:\n",
    "    for line in file:\n",
    "        parts = line.strip().split(\"\\t\")\n",
    "        if len(parts) == 2:\n",
    "            id_label_mapping[int(parts[0])] = parts[1]  # Convert labels to lowercase\n",
    "\n",
    "# Replace the values in the \"ID\" column with corresponding values from the dictionary\n",
    "df[\"ID\"] = df[\"ID\"].map(id_label_mapping)\n",
    "\n",
    "# Rename the \"ID\" column to \"Label\"\n",
    "df.rename(columns={\"ID\": \"Label\"}, inplace=True)\n",
    "\n",
    "# Save the updated DataFrame to a new CSV file\n",
    "df.to_csv(\"test_en.csv\", index=False)\n"
   ]
  }
 ],
 "metadata": {
  "kernelspec": {
   "display_name": "Python 3",
   "language": "python",
   "name": "python3"
  },
  "language_info": {
   "codemirror_mode": {
    "name": "ipython",
    "version": 3
   },
   "file_extension": ".py",
   "mimetype": "text/x-python",
   "name": "python",
   "nbconvert_exporter": "python",
   "pygments_lexer": "ipython3",
   "version": "3.10.12"
  }
 },
 "nbformat": 4,
 "nbformat_minor": 2
}
