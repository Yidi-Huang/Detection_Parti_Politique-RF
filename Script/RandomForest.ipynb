{
 "cells": [
  {
   "cell_type": "markdown",
   "metadata": {},
   "source": [
    "This notebook follows this article:\n",
    "https://towardsdatascience.com/multi-class-text-classification-with-scikit-learn-12f1e60e0a9f"
   ]
  },
  {
   "cell_type": "code",
   "execution_count": 1,
   "metadata": {
    "_cell_guid": "b1076dfc-b9ad-4769-8c92-a6c4dae69d19",
    "_uuid": "8f2839f25d086af736a60e9eeb907d3b93b6e0e5"
   },
   "outputs": [],
   "source": [
    "# This Python 3 environment comes with many helpful analytics libraries installed\n",
    "# It is defined by the kaggle/python docker image: https://github.com/kaggle/docker-python\n",
    "# For example, here's several helpful packages to load in \n",
    "\n",
    "import numpy as np # linear algebra\n",
    "import pandas as pd # data processing, CSV file I/O (e.g. pd.read_csv)\n",
    "\n",
    "# Input data files are available in the \"../input/\" directory.\n",
    "# For example, running this (by clicking run or pressing Shift+Enter) will list all files under the input directory\n",
    "\n",
    "import os\n",
    "for dirname, _, filenames in os.walk('/corpus'):\n",
    "    for filename in filenames:\n",
    "        print(os.path.join(dirname, filename))\n",
    "\n",
    "# Any results you write to the current directory are saved as output."
   ]
  },
  {
   "cell_type": "code",
   "execution_count": 2,
   "metadata": {
    "_cell_guid": "79c7e3d0-c299-4dcb-8224-4455121ee9b0",
    "_uuid": "d629ff2d2480ee46fbb7e2d37f6b5fab8052498a"
   },
   "outputs": [
    {
     "data": {
      "text/html": [
       "<div>\n",
       "<style scoped>\n",
       "    .dataframe tbody tr th:only-of-type {\n",
       "        vertical-align: middle;\n",
       "    }\n",
       "\n",
       "    .dataframe tbody tr th {\n",
       "        vertical-align: top;\n",
       "    }\n",
       "\n",
       "    .dataframe thead th {\n",
       "        text-align: right;\n",
       "    }\n",
       "</style>\n",
       "<table border=\"1\" class=\"dataframe\">\n",
       "  <thead>\n",
       "    <tr style=\"text-align: right;\">\n",
       "      <th></th>\n",
       "      <th>Label</th>\n",
       "      <th>Text</th>\n",
       "    </tr>\n",
       "  </thead>\n",
       "  <tbody>\n",
       "    <tr>\n",
       "      <th>0</th>\n",
       "      <td>GUE-NGL</td>\n",
       "      <td>Heralded as ‘a stage further in the opening of...</td>\n",
       "    </tr>\n",
       "    <tr>\n",
       "      <th>1</th>\n",
       "      <td>PPE-DE</td>\n",
       "      <td>Mr President, on the evening of 12 August, my ...</td>\n",
       "    </tr>\n",
       "    <tr>\n",
       "      <th>2</th>\n",
       "      <td>PPE-DE</td>\n",
       "      <td>Mr President, this amendment is redundant, as ...</td>\n",
       "    </tr>\n",
       "    <tr>\n",
       "      <th>3</th>\n",
       "      <td>PPE-DE</td>\n",
       "      <td>Madam President, Commissioner, today is an imm...</td>\n",
       "    </tr>\n",
       "    <tr>\n",
       "      <th>4</th>\n",
       "      <td>PSE</td>\n",
       "      <td>Mr President, Commissioner, ladies and gentlem...</td>\n",
       "    </tr>\n",
       "  </tbody>\n",
       "</table>\n",
       "</div>"
      ],
      "text/plain": [
       "     Label                                               Text\n",
       "0  GUE-NGL  Heralded as ‘a stage further in the opening of...\n",
       "1   PPE-DE  Mr President, on the evening of 12 August, my ...\n",
       "2   PPE-DE  Mr President, this amendment is redundant, as ...\n",
       "3   PPE-DE  Madam President, Commissioner, today is an imm...\n",
       "4      PSE  Mr President, Commissioner, ladies and gentlem..."
      ]
     },
     "execution_count": 2,
     "metadata": {},
     "output_type": "execute_result"
    }
   ],
   "source": [
    "df = pd.read_csv('output_en.csv', nrows=99999) # limiting the rows\n",
    "df.head()"
   ]
  },
  {
   "cell_type": "markdown",
   "metadata": {},
   "source": [
    "For this project, we need only two columns — “Product” and “Consumer complaint narrative”.\n",
    "\n",
    "Input: Consumer_complaint_narrative\n",
    "Example: “ I have outdated information on my credit report that I have previously disputed that has yet to be removed this information is more then seven years old and does not meet credit reporting requirements”\n",
    "\n",
    "Output: product\n",
    "Example: Credit reporting\n",
    "\n",
    "We will remove missing values in “Consumer complaints narrative” column, and add a column encoding the product as an integer because categorical variables are often better represented by integers than strings.\n",
    "We also create a couple of dictionaries for future use."
   ]
  },
  {
   "cell_type": "code",
   "execution_count": 3,
   "metadata": {},
   "outputs": [],
   "source": [
    "df['category_id'] = df['Label'].factorize()[0]\n",
    "from io import StringIO\n",
    "category_id_df = df[['Label', 'category_id']].drop_duplicates().sort_values('category_id')\n",
    "category_to_id = dict(category_id_df.values)\n",
    "id_to_category = dict(category_id_df[['category_id', 'Label']].values)"
   ]
  },
  {
   "cell_type": "code",
   "execution_count": 4,
   "metadata": {},
   "outputs": [
    {
     "data": {
      "text/plain": [
       "{'GUE-NGL': 0, 'PPE-DE': 1, 'PSE': 2, 'ELDR': 3, 'Verts-ALE': 4}"
      ]
     },
     "execution_count": 4,
     "metadata": {},
     "output_type": "execute_result"
    }
   ],
   "source": [
    "category_to_id"
   ]
  },
  {
   "cell_type": "code",
   "execution_count": 5,
   "metadata": {},
   "outputs": [
    {
     "data": {
      "text/html": [
       "<div>\n",
       "<style scoped>\n",
       "    .dataframe tbody tr th:only-of-type {\n",
       "        vertical-align: middle;\n",
       "    }\n",
       "\n",
       "    .dataframe tbody tr th {\n",
       "        vertical-align: top;\n",
       "    }\n",
       "\n",
       "    .dataframe thead th {\n",
       "        text-align: right;\n",
       "    }\n",
       "</style>\n",
       "<table border=\"1\" class=\"dataframe\">\n",
       "  <thead>\n",
       "    <tr style=\"text-align: right;\">\n",
       "      <th></th>\n",
       "      <th>Label</th>\n",
       "      <th>Text</th>\n",
       "      <th>category_id</th>\n",
       "    </tr>\n",
       "  </thead>\n",
       "  <tbody>\n",
       "    <tr>\n",
       "      <th>0</th>\n",
       "      <td>GUE-NGL</td>\n",
       "      <td>Heralded as ‘a stage further in the opening of...</td>\n",
       "      <td>0</td>\n",
       "    </tr>\n",
       "    <tr>\n",
       "      <th>1</th>\n",
       "      <td>PPE-DE</td>\n",
       "      <td>Mr President, on the evening of 12 August, my ...</td>\n",
       "      <td>1</td>\n",
       "    </tr>\n",
       "    <tr>\n",
       "      <th>2</th>\n",
       "      <td>PPE-DE</td>\n",
       "      <td>Mr President, this amendment is redundant, as ...</td>\n",
       "      <td>1</td>\n",
       "    </tr>\n",
       "    <tr>\n",
       "      <th>3</th>\n",
       "      <td>PPE-DE</td>\n",
       "      <td>Madam President, Commissioner, today is an imm...</td>\n",
       "      <td>1</td>\n",
       "    </tr>\n",
       "    <tr>\n",
       "      <th>4</th>\n",
       "      <td>PSE</td>\n",
       "      <td>Mr President, Commissioner, ladies and gentlem...</td>\n",
       "      <td>2</td>\n",
       "    </tr>\n",
       "  </tbody>\n",
       "</table>\n",
       "</div>"
      ],
      "text/plain": [
       "     Label                                               Text  category_id\n",
       "0  GUE-NGL  Heralded as ‘a stage further in the opening of...            0\n",
       "1   PPE-DE  Mr President, on the evening of 12 August, my ...            1\n",
       "2   PPE-DE  Mr President, this amendment is redundant, as ...            1\n",
       "3   PPE-DE  Madam President, Commissioner, today is an imm...            1\n",
       "4      PSE  Mr President, Commissioner, ladies and gentlem...            2"
      ]
     },
     "execution_count": 5,
     "metadata": {},
     "output_type": "execute_result"
    }
   ],
   "source": [
    "df.head()"
   ]
  },
  {
   "cell_type": "code",
   "execution_count": 6,
   "metadata": {},
   "outputs": [
    {
     "data": {
      "text/plain": [
       "<Figure size 800x600 with 0 Axes>"
      ]
     },
     "metadata": {},
     "output_type": "display_data"
    },
    {
     "data": {
      "image/png": "[encoded data removed]",
      "text/plain": [
       "<Figure size 640x480 with 1 Axes>"
      ]
     },
     "metadata": {},
     "output_type": "display_data"
    }
   ],
   "source": [
    "import matplotlib.pyplot as plt\n",
    "fig = plt.figure(figsize=(8,6))\n",
    "df.groupby('Label').count().plot.bar(ylim=0)\n",
    "plt.show()"
   ]
  },
  {
   "cell_type": "markdown",
   "metadata": {},
   "source": [
    "The data looks imbalanced. \n",
    "\n",
    "When we encounter such problems, we are bound to have difficulties solving them with standard algorithms. Conventional algorithms are often biased towards the majority class, not taking the data distribution into consideration. In the worst case, minority classes are treated as outliers and ignored. \n",
    "\n",
    "For some cases, such as fraud detection or cancer prediction, we would need to carefully configure our model or artificially balance the dataset, for example by undersampling or oversampling each class."
   ]
  },
  {
   "cell_type": "markdown",
   "metadata": {},
   "source": [
    "However, in our case of learning imbalanced data, the majority classes might be of our great interest. It is desirable to have a classifier that gives high prediction accuracy over the majority class, while maintaining reasonable accuracy for the minority classes. Therefore, we will leave it as it is."
   ]
  },
  {
   "cell_type": "markdown",
   "metadata": {},
   "source": [
    "We will calculate a measure called Term Frequency, Inverse Document Frequency, abbreviated to tf-idf. \n",
    "\n",
    "We will use sklearn.feature_extraction.text.TfidfVectorizer to calculate a tf-idf vector for each of consumer complaint narratives:\n",
    "1. sublinear_df is set to True to use a logarithmic form for frequency.\n",
    "1. min_df is the minimum numbers of documents a word must be present in to be kept.\n",
    "1. norm is set to l2, to ensure all our feature vectors have a euclidian norm of 1.\n",
    "1. ngram_range is set to (1, 2) to indicate that we want to consider both unigrams and bigrams.\n",
    "1. stop_words is set to \"english\" to remove all common pronouns (\"a\", \"the\", ...) to reduce the number of noisy features."
   ]
  },
  {
   "cell_type": "code",
   "execution_count": 10,
   "metadata": {},
   "outputs": [
    {
     "data": {
      "text/plain": [
       "(19370, 7243)"
      ]
     },
     "execution_count": 10,
     "metadata": {},
     "output_type": "execute_result"
    }
   ],
   "source": [
    "from sklearn.feature_extraction.text import TfidfVectorizer\n",
    "\n",
    "\n",
    "##每个条目，检查它是否是字符串类型。如果不是字符串（例如，是浮点数），则将其转换为字符串\n",
    "df['Text'] = df['Text'].apply(lambda x: str(x) if not isinstance(x, str) else x)\n",
    "\n",
    "tfidfVector = TfidfVectorizer(sublinear_tf=True, min_df=50, norm='l2', encoding='utf-8', ngram_range=(1, 2), stop_words='english')\n",
    "\n",
    "features = tfidfVector.fit_transform(df['Text']).toarray()\n",
    "labels = df.category_id\n",
    "features.shape"
   ]
  },
  {
   "cell_type": "code",
   "execution_count": 11,
   "metadata": {},
   "outputs": [
    {
     "data": {
      "text/plain": [
       "Text\n",
       "<class 'str'>    19370\n",
       "Name: count, dtype: int64"
      ]
     },
     "execution_count": 11,
     "metadata": {},
     "output_type": "execute_result"
    }
   ],
   "source": [
    "df['Text'].apply(type).value_counts()"
   ]
  },
  {
   "cell_type": "code",
   "execution_count": 14,
   "metadata": {},
   "outputs": [
    {
     "name": "stdout",
     "output_type": "stream",
     "text": [
      "# 'ELDR':\n",
      " Most correlated unigrams:\n",
      ". democrat\n",
      ". liberal\n",
      " Most correlated bigrams:\n",
      ". democrat reform\n",
      ". liberal democrat\n",
      "# 'GUE-NGL':\n",
      " Most correlated unigrams:\n",
      ". profits\n",
      ". εu\n",
      " Most correlated bigrams:\n",
      ". communist party\n",
      ". party greece\n",
      "# 'PPE-DE':\n",
      " Most correlated unigrams:\n",
      ". elderly\n",
      ". pensioners\n",
      " Most correlated bigrams:\n",
      ". president voted\n",
      ". pensioners party\n",
      "# 'PSE':\n",
      " Most correlated unigrams:\n",
      ". socialists\n",
      ". socialist\n",
      " Most correlated bigrams:\n",
      ". socialist group\n",
      ". social democrats\n",
      "# 'Verts-ALE':\n",
      " Most correlated unigrams:\n",
      ". wales\n",
      ". scotland\n",
      " Most correlated bigrams:\n",
      ". sustainable development\n",
      ". basque country\n"
     ]
    }
   ],
   "source": [
    "# We can use sklearn.feature_selection.chi2 to find the terms that are the most correlated with each of the products:\n",
    "from sklearn.feature_selection import chi2\n",
    "import numpy as np\n",
    "N = 2\n",
    "for Label, category_id in sorted(category_to_id.items()):\n",
    "    features_chi2 = chi2(features, labels == category_id)\n",
    "    indices = np.argsort(features_chi2[0])\n",
    "    feature_names = np.array(tfidfVector.get_feature_names_out())[indices]\n",
    "    unigrams = [v for v in feature_names if len(v.split(' ')) == 1]\n",
    "    bigrams = [v for v in feature_names if len(v.split(' ')) == 2]\n",
    "    print(\"# '{}':\".format(Label))\n",
    "    print(\" Most correlated unigrams:\\n. {}\".format('\\n. '.join(unigrams[-N:])))\n",
    "    print(\" Most correlated bigrams:\\n. {}\".format('\\n. '.join(bigrams[-N:])))"
   ]
  },
  {
   "cell_type": "code",
   "execution_count": 11,
   "metadata": {},
   "outputs": [
    {
     "name": "stderr",
     "output_type": "stream",
     "text": [
      "/home/yidi/.local/lib/python3.10/site-packages/sklearn/feature_extraction/text.py:408: UserWarning: Your stop_words may be inconsistent with your preprocessing. Tokenizing the stop words generated tokens ['quelqu'] not in stop_words.\n",
      "  warnings.warn(\n"
     ]
    },
    {
     "data": {
      "image/png": "[encoded data removed]",
      "text/plain": [
       "<Figure size 720x432 with 1 Axes>"
      ]
     },
     "metadata": {
      "needs_background": "light"
     },
     "output_type": "display_data"
    }
   ],
   "source": [
    "import pandas as pd\n",
    "from sklearn.feature_extraction.text import CountVectorizer\n",
    "from sklearn.ensemble import RandomForestClassifier\n",
    "from sklearn.metrics import classification_report, f1_score\n",
    "import matplotlib.pyplot as plt\n",
    "\n",
    "# Load stop words from file\n",
    "with open('sw_fr.txt', 'r', encoding='utf-8') as file:\n",
    "    stop_words = [line.strip() for line in file]\n",
    "\n",
    "# Load training data\n",
    "train_data = pd.read_csv('output_fr.csv')\n",
    "\n",
    "# Load test data\n",
    "test_data = pd.read_csv('test_fr.csv')\n",
    "\n",
    "# Define features (X) and target variable (y) for training data\n",
    "X_train = train_data['Text']\n",
    "y_train = train_data['Label']\n",
    "\n",
    "# Define features (X) and target variable (y) for test data\n",
    "X_test = test_data['Text']\n",
    "y_test = test_data['Label']\n",
    "\n",
    "# Create CountVectorizer with custom French stop words\n",
    "vectorizer = CountVectorizer(\n",
    "    stop_words=stop_words\n",
    ")\n",
    "\n",
    "# Fit and transform the training data\n",
    "X_train_count = vectorizer.fit_transform(X_train)\n",
    "\n",
    "# Transform the test data\n",
    "X_test_count = vectorizer.transform(X_test)\n",
    "\n",
    "# Initialize RandomForestClassifier\n",
    "max_depth = 80\n",
    "\n",
    "# Lists to store F-scores and corresponding parameter values\n",
    "n_estimators_values = []\n",
    "f1_scores = []\n",
    "\n",
    "# Iterate over n_estimators values\n",
    "for n_estimators in range(50, 151, 10):\n",
    "    # Initialize RandomForestClassifier with the current parameters\n",
    "    random_forest = RandomForestClassifier(random_state=42, n_estimators=n_estimators, max_depth=max_depth)\n",
    "\n",
    "    # Train the model on the training set\n",
    "    random_forest.fit(X_train_count, y_train)\n",
    "\n",
    "    # Make predictions on the test set\n",
    "    y_pred = random_forest.predict(X_test_count)\n",
    "\n",
    "    # Get F1-score (macro) for the current model\n",
    "    current_f1_score = f1_score(y_test, y_pred, average='macro')\n",
    "\n",
    "    # Store values in lists\n",
    "    n_estimators_values.append(n_estimators)\n",
    "    f1_scores.append(current_f1_score)\n",
    "\n",
    "# Plot the results\n",
    "plt.figure(figsize=(10, 6))\n",
    "plt.plot(n_estimators_values, f1_scores, marker='o', linestyle='-', color='b')\n",
    "plt.title('Effect of n_estimators on F1-score')\n",
    "plt.xlabel('n_estimators')\n",
    "plt.ylabel('F1-score (macro)')\n",
    "plt.grid(True)\n",
    "plt.show()\n"
   ]
  },
  {
   "cell_type": "code",
   "execution_count": 5,
   "metadata": {},
   "outputs": [
    {
     "name": "stderr",
     "output_type": "stream",
     "text": [
      "/home/yidi/.local/lib/python3.10/site-packages/sklearn/feature_extraction/text.py:408: UserWarning: Your stop_words may be inconsistent with your preprocessing. Tokenizing the stop words generated tokens ['quelqu'] not in stop_words.\n",
      "  warnings.warn(\n"
     ]
    },
    {
     "data": {
      "image/png": "[encoded data removed]",
      "text/plain": [
       "<Figure size 720x432 with 1 Axes>"
      ]
     },
     "metadata": {
      "needs_background": "light"
     },
     "output_type": "display_data"
    }
   ],
   "source": [
    "import pandas as pd\n",
    "from sklearn.feature_extraction.text import CountVectorizer\n",
    "from sklearn.ensemble import RandomForestClassifier\n",
    "from sklearn.metrics import classification_report, f1_score\n",
    "import matplotlib.pyplot as plt\n",
    "\n",
    "# Load stop words from file\n",
    "with open('sw_fr.txt', 'r', encoding='utf-8') as file:\n",
    "    stop_words = [line.strip() for line in file]\n",
    "\n",
    "# Load training data\n",
    "train_data = pd.read_csv('output_fr.csv')\n",
    "\n",
    "# Load test data\n",
    "test_data = pd.read_csv('test_fr.csv')\n",
    "\n",
    "# Define features (X) and target variable (y) for training data\n",
    "X_train = train_data['Text']\n",
    "y_train = train_data['Label']\n",
    "\n",
    "# Define features (X) and target variable (y) for test data\n",
    "X_test = test_data['Text']\n",
    "y_test = test_data['Label']\n",
    "\n",
    "# Create CountVectorizer with custom French stop words\n",
    "vectorizer = CountVectorizer(\n",
    "    stop_words=stop_words\n",
    ")\n",
    "\n",
    "# Fit and transform the training data\n",
    "X_train_count = vectorizer.fit_transform(X_train)\n",
    "\n",
    "# Transform the test data\n",
    "X_test_count = vectorizer.transform(X_test)\n",
    "\n",
    "# Initialize RandomForestClassifier\n",
    "n_estimators = 100\n",
    "\n",
    "# Lists to store F-scores and corresponding parameter values\n",
    "max_depth_values = []\n",
    "f1_scores = []\n",
    "\n",
    "# Iterate over max_depth values\n",
    "for max_depth in range(50, 151, 10):\n",
    "    # Initialize RandomForestClassifier with the current parameters\n",
    "    random_forest = RandomForestClassifier(random_state=42, n_estimators=n_estimators, max_depth=max_depth)\n",
    "\n",
    "    # Train the model on the training set\n",
    "    random_forest.fit(X_train_count, y_train)\n",
    "\n",
    "    # Make predictions on the test set\n",
    "    y_pred = random_forest.predict(X_test_count)\n",
    "\n",
    "    # Get F1-score (macro) for the current model\n",
    "    current_f1_score = f1_score(y_test, y_pred, average='macro')\n",
    "\n",
    "    # Store values in lists\n",
    "    max_depth_values.append(max_depth)\n",
    "    f1_scores.append(current_f1_score)\n",
    "\n",
    "# Plot the results\n",
    "plt.figure(figsize=(10, 6))\n",
    "plt.plot(max_depth_values, f1_scores, marker='o', linestyle='-', color='b')\n",
    "plt.title('Effect of max_depth on F1-score')\n",
    "plt.xlabel('max_depth')\n",
    "plt.ylabel('F1-score (macro)')\n",
    "plt.grid(True)\n",
    "plt.show()\n"
   ]
  },
  {
   "cell_type": "markdown",
   "metadata": {},
   "source": [
    "## Multi-Class Classifier"
   ]
  },
  {
   "cell_type": "code",
   "execution_count": 12,
   "metadata": {},
   "outputs": [
    {
     "name": "stderr",
     "output_type": "stream",
     "text": [
      "/home/yidi/.local/lib/python3.10/site-packages/sklearn/feature_extraction/text.py:408: UserWarning: Your stop_words may be inconsistent with your preprocessing. Tokenizing the stop words generated tokens ['quelqu'] not in stop_words.\n",
      "  warnings.warn(\n"
     ]
    },
    {
     "name": "stdout",
     "output_type": "stream",
     "text": [
      "Classification Report:\n",
      "               precision    recall  f1-score   support\n",
      "\n",
      "        ELDR       1.00      0.54      0.70      1339\n",
      "     GUE-NGL       0.97      0.69      0.81      1793\n",
      "      PPE-DE       0.60      0.96      0.74      4571\n",
      "         PSE       0.87      0.65      0.75      3627\n",
      "   Verts-ALE       1.00      0.55      0.71      1585\n",
      "\n",
      "    accuracy                           0.74     12915\n",
      "   macro avg       0.89      0.68      0.74     12915\n",
      "weighted avg       0.82      0.74      0.74     12915\n",
      "\n"
     ]
    }
   ],
   "source": [
    "import pandas as pd\n",
    "from sklearn.feature_extraction.text import CountVectorizer\n",
    "from sklearn.ensemble import RandomForestClassifier\n",
    "from sklearn.metrics import classification_report\n",
    "\n",
    "# Load stop words from file\n",
    "with open('sw_fr.txt', 'r', encoding='utf-8') as file:\n",
    "    stop_words = [line.strip() for line in file]\n",
    "\n",
    "# Load training data\n",
    "train_data = pd.read_csv('output_fr.csv')\n",
    "\n",
    "# Load test data\n",
    "test_data = pd.read_csv('test_fr.csv')\n",
    "\n",
    "# Define features (X) and target variable (y) for training data\n",
    "X_train = train_data['Text']\n",
    "y_train = train_data['Label']\n",
    "\n",
    "# Define features (X) and target variable (y) for test data\n",
    "X_test = test_data['Text']\n",
    "y_test = test_data['Label']\n",
    "\n",
    "# Create CountVectorizer with custom French stop words\n",
    "vectorizer = CountVectorizer(\n",
    "    stop_words=stop_words\n",
    ")\n",
    "\n",
    "# Fit and transform the training data\n",
    "X_train_count = vectorizer.fit_transform(X_train)\n",
    "\n",
    "# Transform the test data\n",
    "X_test_count = vectorizer.transform(X_test)\n",
    "\n",
    "# Initialize RandomForestClassifier\n",
    "random_forest = RandomForestClassifier(random_state=42, n_estimators=100, max_depth=90)\n",
    "\n",
    "# Train the model on the training set\n",
    "random_forest.fit(X_train_count, y_train)\n",
    "\n",
    "# Make predictions on the test set\n",
    "y_pred = random_forest.predict(X_test_count)\n",
    "\n",
    "# Get classification report\n",
    "class_report = classification_report(y_test, y_pred)\n",
    "print(\"Classification Report:\\n\", class_report)\n"
   ]
  }
 ],
 "metadata": {
  "kernelspec": {
   "display_name": "Python 3",
   "language": "python",
   "name": "python3"
  },
  "language_info": {
   "codemirror_mode": {
    "name": "ipython",
    "version": 3
   },
   "file_extension": ".py",
   "mimetype": "text/x-python",
   "name": "python",
   "nbconvert_exporter": "python",
   "pygments_lexer": "ipython3",
   "version": "3.10.12"
  }
 },
 "nbformat": 4,
 "nbformat_minor": 1
}
